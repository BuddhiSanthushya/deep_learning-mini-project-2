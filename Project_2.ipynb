{
  "nbformat": 4,
  "nbformat_minor": 0,
  "metadata": {
    "colab": {
      "provenance": []
    },
    "kernelspec": {
      "name": "python3",
      "display_name": "Python 3"
    },
    "language_info": {
      "name": "python"
    }
  },
  "cells": [
    {
      "cell_type": "markdown",
      "source": [
        "# Importing relevant libraries"
      ],
      "metadata": {
        "id": "hTc2xjrOFSsX"
      }
    },
    {
      "cell_type": "code",
      "execution_count": 1,
      "metadata": {
        "id": "XynZM5KEro4i"
      },
      "outputs": [],
      "source": [
        "import os\n",
        "import pandas as pd\n",
        "import numpy as np\n",
        "from sklearn.model_selection import train_test_split\n",
        "from sklearn.preprocessing import MinMaxScaler\n",
        "from keras.preprocessing.sequence import TimeseriesGenerator\n",
        "from keras.models import Sequential\n",
        "from keras.layers import LSTM, Dense, Dropout\n",
        "from keras.callbacks import EarlyStopping\n",
        "\n",
        "import matplotlib.pyplot as plt"
      ]
    },
    {
      "cell_type": "markdown",
      "source": [
        "# Setting up the data folder"
      ],
      "metadata": {
        "id": "MeWVSF67JDJ2"
      }
    },
    {
      "cell_type": "code",
      "source": [
        "from google.colab import drive\n",
        "drive.mount('/content/drive')\n",
        "\n",
        "os.chdir(\"/content/drive/My Drive/Project_2/\")\n",
        "os.getcwd()"
      ],
      "metadata": {
        "id": "ALatb6Jhr15s",
        "colab": {
          "base_uri": "https://localhost:8080/",
          "height": 53
        },
        "outputId": "d6f9b758-684f-4023-dbe0-f0cd4440b9c0"
      },
      "execution_count": 2,
      "outputs": [
        {
          "output_type": "stream",
          "name": "stdout",
          "text": [
            "Mounted at /content/drive\n"
          ]
        },
        {
          "output_type": "execute_result",
          "data": {
            "text/plain": [
              "'/content/drive/My Drive/Project_2'"
            ],
            "application/vnd.google.colaboratory.intrinsic+json": {
              "type": "string"
            }
          },
          "metadata": {},
          "execution_count": 2
        }
      ]
    },
    {
      "cell_type": "markdown",
      "source": [
        "# Reading the data file"
      ],
      "metadata": {
        "id": "9N22u_SxJISq"
      }
    },
    {
      "cell_type": "code",
      "source": [
        "df = pd.read_csv(\"/content/drive/My Drive/Project_2/CSE All-Share Historical Data (1).csv\")\n",
        "df.head()"
      ],
      "metadata": {
        "id": "RLxYZYJYr6wT",
        "colab": {
          "base_uri": "https://localhost:8080/",
          "height": 206
        },
        "outputId": "6b9d511d-faef-48c0-f7c6-14233743f531"
      },
      "execution_count": 3,
      "outputs": [
        {
          "output_type": "execute_result",
          "data": {
            "text/plain": [
              "         Date      Price       Open       High        Low    Vol. Change %\n",
              "0  02/26/2024  10,612.17  10,655.35  10,693.85  10,607.77     NaN   -0.41%\n",
              "1  02/22/2024  10,655.35  10,649.30  10,680.25  10,642.62     NaN    0.06%\n",
              "2  02/21/2024  10,649.30  10,638.06  10,664.63  10,626.52     NaN    0.11%\n",
              "3  02/20/2024  10,638.06  10,643.05  10,662.46  10,620.05  36.80M   -0.05%\n",
              "4  02/19/2024  10,643.05  10,586.11  10,652.01  10,585.12  91.58M    0.54%"
            ],
            "text/html": [
              "\n",
              "  <div id=\"df-1dc6461d-0e6b-4544-8bec-942ed0877550\" class=\"colab-df-container\">\n",
              "    <div>\n",
              "<style scoped>\n",
              "    .dataframe tbody tr th:only-of-type {\n",
              "        vertical-align: middle;\n",
              "    }\n",
              "\n",
              "    .dataframe tbody tr th {\n",
              "        vertical-align: top;\n",
              "    }\n",
              "\n",
              "    .dataframe thead th {\n",
              "        text-align: right;\n",
              "    }\n",
              "</style>\n",
              "<table border=\"1\" class=\"dataframe\">\n",
              "  <thead>\n",
              "    <tr style=\"text-align: right;\">\n",
              "      <th></th>\n",
              "      <th>Date</th>\n",
              "      <th>Price</th>\n",
              "      <th>Open</th>\n",
              "      <th>High</th>\n",
              "      <th>Low</th>\n",
              "      <th>Vol.</th>\n",
              "      <th>Change %</th>\n",
              "    </tr>\n",
              "  </thead>\n",
              "  <tbody>\n",
              "    <tr>\n",
              "      <th>0</th>\n",
              "      <td>02/26/2024</td>\n",
              "      <td>10,612.17</td>\n",
              "      <td>10,655.35</td>\n",
              "      <td>10,693.85</td>\n",
              "      <td>10,607.77</td>\n",
              "      <td>NaN</td>\n",
              "      <td>-0.41%</td>\n",
              "    </tr>\n",
              "    <tr>\n",
              "      <th>1</th>\n",
              "      <td>02/22/2024</td>\n",
              "      <td>10,655.35</td>\n",
              "      <td>10,649.30</td>\n",
              "      <td>10,680.25</td>\n",
              "      <td>10,642.62</td>\n",
              "      <td>NaN</td>\n",
              "      <td>0.06%</td>\n",
              "    </tr>\n",
              "    <tr>\n",
              "      <th>2</th>\n",
              "      <td>02/21/2024</td>\n",
              "      <td>10,649.30</td>\n",
              "      <td>10,638.06</td>\n",
              "      <td>10,664.63</td>\n",
              "      <td>10,626.52</td>\n",
              "      <td>NaN</td>\n",
              "      <td>0.11%</td>\n",
              "    </tr>\n",
              "    <tr>\n",
              "      <th>3</th>\n",
              "      <td>02/20/2024</td>\n",
              "      <td>10,638.06</td>\n",
              "      <td>10,643.05</td>\n",
              "      <td>10,662.46</td>\n",
              "      <td>10,620.05</td>\n",
              "      <td>36.80M</td>\n",
              "      <td>-0.05%</td>\n",
              "    </tr>\n",
              "    <tr>\n",
              "      <th>4</th>\n",
              "      <td>02/19/2024</td>\n",
              "      <td>10,643.05</td>\n",
              "      <td>10,586.11</td>\n",
              "      <td>10,652.01</td>\n",
              "      <td>10,585.12</td>\n",
              "      <td>91.58M</td>\n",
              "      <td>0.54%</td>\n",
              "    </tr>\n",
              "  </tbody>\n",
              "</table>\n",
              "</div>\n",
              "    <div class=\"colab-df-buttons\">\n",
              "\n",
              "  <div class=\"colab-df-container\">\n",
              "    <button class=\"colab-df-convert\" onclick=\"convertToInteractive('df-1dc6461d-0e6b-4544-8bec-942ed0877550')\"\n",
              "            title=\"Convert this dataframe to an interactive table.\"\n",
              "            style=\"display:none;\">\n",
              "\n",
              "  <svg xmlns=\"http://www.w3.org/2000/svg\" height=\"24px\" viewBox=\"0 -960 960 960\">\n",
              "    <path d=\"M120-120v-720h720v720H120Zm60-500h600v-160H180v160Zm220 220h160v-160H400v160Zm0 220h160v-160H400v160ZM180-400h160v-160H180v160Zm440 0h160v-160H620v160ZM180-180h160v-160H180v160Zm440 0h160v-160H620v160Z\"/>\n",
              "  </svg>\n",
              "    </button>\n",
              "\n",
              "  <style>\n",
              "    .colab-df-container {\n",
              "      display:flex;\n",
              "      gap: 12px;\n",
              "    }\n",
              "\n",
              "    .colab-df-convert {\n",
              "      background-color: #E8F0FE;\n",
              "      border: none;\n",
              "      border-radius: 50%;\n",
              "      cursor: pointer;\n",
              "      display: none;\n",
              "      fill: #1967D2;\n",
              "      height: 32px;\n",
              "      padding: 0 0 0 0;\n",
              "      width: 32px;\n",
              "    }\n",
              "\n",
              "    .colab-df-convert:hover {\n",
              "      background-color: #E2EBFA;\n",
              "      box-shadow: 0px 1px 2px rgba(60, 64, 67, 0.3), 0px 1px 3px 1px rgba(60, 64, 67, 0.15);\n",
              "      fill: #174EA6;\n",
              "    }\n",
              "\n",
              "    .colab-df-buttons div {\n",
              "      margin-bottom: 4px;\n",
              "    }\n",
              "\n",
              "    [theme=dark] .colab-df-convert {\n",
              "      background-color: #3B4455;\n",
              "      fill: #D2E3FC;\n",
              "    }\n",
              "\n",
              "    [theme=dark] .colab-df-convert:hover {\n",
              "      background-color: #434B5C;\n",
              "      box-shadow: 0px 1px 3px 1px rgba(0, 0, 0, 0.15);\n",
              "      filter: drop-shadow(0px 1px 2px rgba(0, 0, 0, 0.3));\n",
              "      fill: #FFFFFF;\n",
              "    }\n",
              "  </style>\n",
              "\n",
              "    <script>\n",
              "      const buttonEl =\n",
              "        document.querySelector('#df-1dc6461d-0e6b-4544-8bec-942ed0877550 button.colab-df-convert');\n",
              "      buttonEl.style.display =\n",
              "        google.colab.kernel.accessAllowed ? 'block' : 'none';\n",
              "\n",
              "      async function convertToInteractive(key) {\n",
              "        const element = document.querySelector('#df-1dc6461d-0e6b-4544-8bec-942ed0877550');\n",
              "        const dataTable =\n",
              "          await google.colab.kernel.invokeFunction('convertToInteractive',\n",
              "                                                    [key], {});\n",
              "        if (!dataTable) return;\n",
              "\n",
              "        const docLinkHtml = 'Like what you see? Visit the ' +\n",
              "          '<a target=\"_blank\" href=https://colab.research.google.com/notebooks/data_table.ipynb>data table notebook</a>'\n",
              "          + ' to learn more about interactive tables.';\n",
              "        element.innerHTML = '';\n",
              "        dataTable['output_type'] = 'display_data';\n",
              "        await google.colab.output.renderOutput(dataTable, element);\n",
              "        const docLink = document.createElement('div');\n",
              "        docLink.innerHTML = docLinkHtml;\n",
              "        element.appendChild(docLink);\n",
              "      }\n",
              "    </script>\n",
              "  </div>\n",
              "\n",
              "\n",
              "<div id=\"df-d14e7bc3-78d9-43be-a865-7f2a9d10a41d\">\n",
              "  <button class=\"colab-df-quickchart\" onclick=\"quickchart('df-d14e7bc3-78d9-43be-a865-7f2a9d10a41d')\"\n",
              "            title=\"Suggest charts\"\n",
              "            style=\"display:none;\">\n",
              "\n",
              "<svg xmlns=\"http://www.w3.org/2000/svg\" height=\"24px\"viewBox=\"0 0 24 24\"\n",
              "     width=\"24px\">\n",
              "    <g>\n",
              "        <path d=\"M19 3H5c-1.1 0-2 .9-2 2v14c0 1.1.9 2 2 2h14c1.1 0 2-.9 2-2V5c0-1.1-.9-2-2-2zM9 17H7v-7h2v7zm4 0h-2V7h2v10zm4 0h-2v-4h2v4z\"/>\n",
              "    </g>\n",
              "</svg>\n",
              "  </button>\n",
              "\n",
              "<style>\n",
              "  .colab-df-quickchart {\n",
              "      --bg-color: #E8F0FE;\n",
              "      --fill-color: #1967D2;\n",
              "      --hover-bg-color: #E2EBFA;\n",
              "      --hover-fill-color: #174EA6;\n",
              "      --disabled-fill-color: #AAA;\n",
              "      --disabled-bg-color: #DDD;\n",
              "  }\n",
              "\n",
              "  [theme=dark] .colab-df-quickchart {\n",
              "      --bg-color: #3B4455;\n",
              "      --fill-color: #D2E3FC;\n",
              "      --hover-bg-color: #434B5C;\n",
              "      --hover-fill-color: #FFFFFF;\n",
              "      --disabled-bg-color: #3B4455;\n",
              "      --disabled-fill-color: #666;\n",
              "  }\n",
              "\n",
              "  .colab-df-quickchart {\n",
              "    background-color: var(--bg-color);\n",
              "    border: none;\n",
              "    border-radius: 50%;\n",
              "    cursor: pointer;\n",
              "    display: none;\n",
              "    fill: var(--fill-color);\n",
              "    height: 32px;\n",
              "    padding: 0;\n",
              "    width: 32px;\n",
              "  }\n",
              "\n",
              "  .colab-df-quickchart:hover {\n",
              "    background-color: var(--hover-bg-color);\n",
              "    box-shadow: 0 1px 2px rgba(60, 64, 67, 0.3), 0 1px 3px 1px rgba(60, 64, 67, 0.15);\n",
              "    fill: var(--button-hover-fill-color);\n",
              "  }\n",
              "\n",
              "  .colab-df-quickchart-complete:disabled,\n",
              "  .colab-df-quickchart-complete:disabled:hover {\n",
              "    background-color: var(--disabled-bg-color);\n",
              "    fill: var(--disabled-fill-color);\n",
              "    box-shadow: none;\n",
              "  }\n",
              "\n",
              "  .colab-df-spinner {\n",
              "    border: 2px solid var(--fill-color);\n",
              "    border-color: transparent;\n",
              "    border-bottom-color: var(--fill-color);\n",
              "    animation:\n",
              "      spin 1s steps(1) infinite;\n",
              "  }\n",
              "\n",
              "  @keyframes spin {\n",
              "    0% {\n",
              "      border-color: transparent;\n",
              "      border-bottom-color: var(--fill-color);\n",
              "      border-left-color: var(--fill-color);\n",
              "    }\n",
              "    20% {\n",
              "      border-color: transparent;\n",
              "      border-left-color: var(--fill-color);\n",
              "      border-top-color: var(--fill-color);\n",
              "    }\n",
              "    30% {\n",
              "      border-color: transparent;\n",
              "      border-left-color: var(--fill-color);\n",
              "      border-top-color: var(--fill-color);\n",
              "      border-right-color: var(--fill-color);\n",
              "    }\n",
              "    40% {\n",
              "      border-color: transparent;\n",
              "      border-right-color: var(--fill-color);\n",
              "      border-top-color: var(--fill-color);\n",
              "    }\n",
              "    60% {\n",
              "      border-color: transparent;\n",
              "      border-right-color: var(--fill-color);\n",
              "    }\n",
              "    80% {\n",
              "      border-color: transparent;\n",
              "      border-right-color: var(--fill-color);\n",
              "      border-bottom-color: var(--fill-color);\n",
              "    }\n",
              "    90% {\n",
              "      border-color: transparent;\n",
              "      border-bottom-color: var(--fill-color);\n",
              "    }\n",
              "  }\n",
              "</style>\n",
              "\n",
              "  <script>\n",
              "    async function quickchart(key) {\n",
              "      const quickchartButtonEl =\n",
              "        document.querySelector('#' + key + ' button');\n",
              "      quickchartButtonEl.disabled = true;  // To prevent multiple clicks.\n",
              "      quickchartButtonEl.classList.add('colab-df-spinner');\n",
              "      try {\n",
              "        const charts = await google.colab.kernel.invokeFunction(\n",
              "            'suggestCharts', [key], {});\n",
              "      } catch (error) {\n",
              "        console.error('Error during call to suggestCharts:', error);\n",
              "      }\n",
              "      quickchartButtonEl.classList.remove('colab-df-spinner');\n",
              "      quickchartButtonEl.classList.add('colab-df-quickchart-complete');\n",
              "    }\n",
              "    (() => {\n",
              "      let quickchartButtonEl =\n",
              "        document.querySelector('#df-d14e7bc3-78d9-43be-a865-7f2a9d10a41d button');\n",
              "      quickchartButtonEl.style.display =\n",
              "        google.colab.kernel.accessAllowed ? 'block' : 'none';\n",
              "    })();\n",
              "  </script>\n",
              "</div>\n",
              "\n",
              "    </div>\n",
              "  </div>\n"
            ],
            "application/vnd.google.colaboratory.intrinsic+json": {
              "type": "dataframe",
              "variable_name": "df",
              "repr_error": "'str' object has no attribute 'empty'"
            }
          },
          "metadata": {},
          "execution_count": 3
        }
      ]
    },
    {
      "cell_type": "markdown",
      "source": [
        "# Preprocessing the data"
      ],
      "metadata": {
        "id": "khzbK-Z3JuyE"
      }
    },
    {
      "cell_type": "code",
      "source": [
        "#Converting 'Date' column to datetime\n",
        "df['Date'] = pd.to_datetime(df['Date'], format='%m/%d/%Y')\n",
        "\n",
        "# Removing non-numeric characters and convert numerical columns to float\n",
        "for col in df.columns[1:]:\n",
        "    df[col] = df[col].str.replace(r'[^\\d.]', '', regex=True).astype(float)\n",
        "\n",
        "\n",
        "# Drop rows with missing values\n",
        "df.dropna(inplace=True)\n",
        "\n",
        "#Normalizing the numerical data\n",
        "scaler = MinMaxScaler(feature_range=(0, 1))\n",
        "scaled_data = scaler.fit_transform(df.drop(columns='Date'))\n",
        "\n",
        "# Creating time series data with three-day windows\n",
        "lookback = 3\n",
        "generator = TimeseriesGenerator(scaled_data, scaled_data, length=lookback, batch_size=1)\n",
        "\n"
      ],
      "metadata": {
        "id": "xUfO37ZZr_UT"
      },
      "execution_count": 4,
      "outputs": []
    },
    {
      "cell_type": "markdown",
      "source": [
        "## Splitting the data into training and testing, maintaining an 80-20% split ratio.\n"
      ],
      "metadata": {
        "id": "JY7PZUiVJ4hv"
      }
    },
    {
      "cell_type": "code",
      "source": [
        "\n",
        "train_size = int(len(scaled_data) * 0.8)\n",
        "test_size = len(scaled_data) - train_size\n",
        "train, test = scaled_data[0:train_size,:], scaled_data[train_size:len(scaled_data),:]"
      ],
      "metadata": {
        "id": "nKMDzAkiHxZz"
      },
      "execution_count": 5,
      "outputs": []
    },
    {
      "cell_type": "code",
      "source": [
        "#for LSTM model\n",
        "def create_sequences(data, lookback):\n",
        "    X, y = [], []\n",
        "    for i in range(len(data) - lookback):\n",
        "        X.append(data[i:(i + lookback), 0])\n",
        "        y.append(data[i + lookback, 0])\n",
        "    return np.array(X), np.array(y)\n",
        "\n",
        "#for training and testing data\n",
        "X_train, y_train = create_sequences(train, lookback)\n",
        "X_test, y_test = create_sequences(test, lookback)\n",
        "\n",
        "#Reshaping the data for LSTM input\n",
        "X_train = np.reshape(X_train, (X_train.shape[0], X_train.shape[1], 1))\n",
        "X_test = np.reshape(X_test, (X_test.shape[0], X_test.shape[1], 1))"
      ],
      "metadata": {
        "id": "S_WFK4NosFKU"
      },
      "execution_count": 6,
      "outputs": []
    },
    {
      "cell_type": "markdown",
      "source": [
        "#LSTM – RNN model Creation"
      ],
      "metadata": {
        "id": "KQoH3IQDKFSA"
      }
    },
    {
      "cell_type": "code",
      "source": [
        "model = Sequential()\n",
        "model.add(LSTM(50, input_shape=(X_train.shape[1], X_train.shape[2]), return_sequences=True))\n",
        "model.add(Dropout(0.2))\n",
        "model.add(LSTM(64, return_sequences=False))\n",
        "model.add(Dense(1))"
      ],
      "metadata": {
        "id": "JmAfKeCFBkzo"
      },
      "execution_count": 7,
      "outputs": []
    },
    {
      "cell_type": "markdown",
      "source": [
        " # LSTM – RNN model Training\n"
      ],
      "metadata": {
        "id": "I0hg4tEeKQAG"
      }
    },
    {
      "cell_type": "code",
      "source": [
        "model.compile(loss='mean_squared_error', optimizer='adam')\n",
        "hist = model.fit(X_train, y_train, epochs=10, batch_size=1, verbose=1)"
      ],
      "metadata": {
        "id": "0pbkE9c1Bpry",
        "colab": {
          "base_uri": "https://localhost:8080/"
        },
        "outputId": "126144e7-55ac-4803-86bd-ed974d131ba3"
      },
      "execution_count": 8,
      "outputs": [
        {
          "output_type": "stream",
          "name": "stdout",
          "text": [
            "Epoch 1/10\n",
            "887/887 [==============================] - 7s 4ms/step - loss: 0.0060\n",
            "Epoch 2/10\n",
            "887/887 [==============================] - 5s 5ms/step - loss: 0.0015\n",
            "Epoch 3/10\n",
            "887/887 [==============================] - 4s 5ms/step - loss: 0.0012\n",
            "Epoch 4/10\n",
            "887/887 [==============================] - 5s 5ms/step - loss: 0.0011\n",
            "Epoch 5/10\n",
            "887/887 [==============================] - 5s 6ms/step - loss: 0.0012\n",
            "Epoch 6/10\n",
            "887/887 [==============================] - 3s 3ms/step - loss: 0.0010\n",
            "Epoch 7/10\n",
            "887/887 [==============================] - 3s 3ms/step - loss: 9.7475e-04\n",
            "Epoch 8/10\n",
            "887/887 [==============================] - 3s 4ms/step - loss: 0.0010\n",
            "Epoch 9/10\n",
            "887/887 [==============================] - 6s 6ms/step - loss: 8.4581e-04\n",
            "Epoch 10/10\n",
            "887/887 [==============================] - 4s 4ms/step - loss: 9.1512e-04\n"
          ]
        }
      ]
    },
    {
      "cell_type": "markdown",
      "source": [
        "#Predicting stock prices"
      ],
      "metadata": {
        "id": "uJYRgE-rKgal"
      }
    },
    {
      "cell_type": "code",
      "source": [
        "Y_predictions = model.predict(X_test)\n",
        "# Reshape Y_predictions to match the shape of X_train\n",
        "Y_predictions = Y_predictions.reshape(-1, 1)\n"
      ],
      "metadata": {
        "id": "VAKrEM1IBsDB",
        "colab": {
          "base_uri": "https://localhost:8080/"
        },
        "outputId": "857e8cd8-8f51-45ad-ee7f-c0aa1b4b1e9f"
      },
      "execution_count": 9,
      "outputs": [
        {
          "output_type": "stream",
          "name": "stdout",
          "text": [
            "7/7 [==============================] - 2s 5ms/step\n"
          ]
        }
      ]
    },
    {
      "cell_type": "code",
      "source": [
        "plt.plot(y_test, color = 'red', label = 'Actual Stock Price')\n",
        "plt.plot(Y_predictions, color = 'green', label = 'Predicted Stock Price')\n",
        "plt.title('Stock price prediction')\n",
        "plt.xlabel('Time')\n",
        "plt.ylabel('Stock Price')\n",
        "plt.legend()\n",
        "plt.show()"
      ],
      "metadata": {
        "id": "eqr9BxSHsJMH",
        "colab": {
          "base_uri": "https://localhost:8080/",
          "height": 472
        },
        "outputId": "59946a32-369e-4d26-caa0-5461111f5f1a"
      },
      "execution_count": 10,
      "outputs": [
        {
          "output_type": "display_data",
          "data": {
            "text/plain": [
              "<Figure size 640x480 with 1 Axes>"
            ],
            "image/png": "[encoded data removed]"
          },
          "metadata": {}
        }
      ]
    },
    {
      "cell_type": "markdown",
      "source": [
        "# The performance of the model by computing the Root Mean Squared Error(RMSE) value"
      ],
      "metadata": {
        "id": "eTKo9Iv4K0qU"
      }
    },
    {
      "cell_type": "code",
      "source": [
        "rmse = np.sqrt(np.mean(((Y_predictions - y_test) ** 2)))\n",
        "print(\"Root Mean Squared Error (RMSE):\", rmse)"
      ],
      "metadata": {
        "colab": {
          "base_uri": "https://localhost:8080/"
        },
        "id": "Ev3O-zjuBzWh",
        "outputId": "226e0cf1-c911-4b27-f6a1-912bbbbb8af9"
      },
      "execution_count": 11,
      "outputs": [
        {
          "output_type": "stream",
          "name": "stdout",
          "text": [
            "Root Mean Squared Error (RMSE): 0.04660887062100741\n"
          ]
        }
      ]
    }
  ]
}